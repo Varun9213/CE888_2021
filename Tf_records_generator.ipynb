{
  "nbformat": 4,
  "nbformat_minor": 0,
  "metadata": {
    "colab": {
      "name": "Tf_records_generator.ipynb",
      "provenance": [],
      "authorship_tag": "ABX9TyPlDqLNkFUGWw18mpLOaSBg",
      "include_colab_link": true
    },
    "kernelspec": {
      "name": "python3",
      "display_name": "Python 3"
    }
  },
  "cells": [
    {
      "cell_type": "markdown",
      "metadata": {
        "id": "view-in-github",
        "colab_type": "text"
      },
      "source": [
        "<a href=\"https://colab.research.google.com/github/Varun9213/CE888_2021/blob/main/Tf_records_generator.ipynb\" target=\"_parent\"><img src=\"https://colab.research.google.com/assets/colab-badge.svg\" alt=\"Open In Colab\"/></a>"
      ]
    },
    {
      "cell_type": "code",
      "metadata": {
        "colab": {
          "base_uri": "https://localhost:8080/"
        },
        "id": "uCZEVVxsW-Po",
        "outputId": "0dcde3d9-cd0c-4bce-8ae6-fb2aab63d94d"
      },
      "source": [
        "from google.colab import drive\r\n",
        "drive.mount('/content/gdrive', force_remount=True)"
      ],
      "execution_count": 9,
      "outputs": [
        {
          "output_type": "stream",
          "text": [
            "Mounted at /content/gdrive\n"
          ],
          "name": "stdout"
        }
      ]
    },
    {
      "cell_type": "code",
      "metadata": {
        "id": "nkMIN5YVXFJH"
      },
      "source": [
        "import pandas as pd, numpy as np, os\r\n",
        "import zipfile"
      ],
      "execution_count": 32,
      "outputs": []
    },
    {
      "cell_type": "code",
      "metadata": {
        "id": "So8YMf4NXStJ"
      },
      "source": [
        "def unzip(mode = \"train\"):\r\n",
        "  if mode == \"train\":\r\n",
        "    zip_ref = zipfile.ZipFile(f\"/content/gdrive/MyDrive/Training_fire.zip\", mode = 'r')\r\n",
        "    zip_ref.extractall(path = f\"/content/train/\")\r\n",
        "  else:\r\n",
        "    zip_ref = zipfile.ZipFile(f\"/content/gdrive/MyDrive/Test_fire.zip\", mode = 'r')\r\n",
        "    zip_ref.extractall(path = f\"/content/test/\")\r\n",
        "  zip_ref.close"
      ],
      "execution_count": 11,
      "outputs": []
    },
    {
      "cell_type": "code",
      "metadata": {
        "id": "M2Bly8p0YC67"
      },
      "source": [
        "unzip()"
      ],
      "execution_count": 12,
      "outputs": []
    },
    {
      "cell_type": "code",
      "metadata": {
        "id": "_I4Ebn61YMes"
      },
      "source": [
        "path_fire = \"/content/train/Training/Fire/\"\r\n",
        "path_nofire = \"/content/train/Training/No_Fire/\"\r\n",
        "\r\n",
        "img_fire = os.listdir(path_fire)\r\n",
        "img_nofire = os.listdir(path_nofire)"
      ],
      "execution_count": 15,
      "outputs": []
    },
    {
      "cell_type": "code",
      "metadata": {
        "id": "ZcbtUBkivZvZ"
      },
      "source": [
        "df_fire = pd.DataFrame(img_fire, columns=[\"image_name\"])\r\n",
        "df_fire[\"target\"] = 1"
      ],
      "execution_count": 18,
      "outputs": []
    },
    {
      "cell_type": "code",
      "metadata": {
        "colab": {
          "base_uri": "https://localhost:8080/",
          "height": 195
        },
        "id": "OwEY8AzIvauh",
        "outputId": "3cf6c033-b7fb-4fff-aaee-addb204e7eae"
      },
      "source": [
        "df_fire.head()"
      ],
      "execution_count": 19,
      "outputs": [
        {
          "output_type": "execute_result",
          "data": {
            "text/html": [
              "<div>\n",
              "<style scoped>\n",
              "    .dataframe tbody tr th:only-of-type {\n",
              "        vertical-align: middle;\n",
              "    }\n",
              "\n",
              "    .dataframe tbody tr th {\n",
              "        vertical-align: top;\n",
              "    }\n",
              "\n",
              "    .dataframe thead th {\n",
              "        text-align: right;\n",
              "    }\n",
              "</style>\n",
              "<table border=\"1\" class=\"dataframe\">\n",
              "  <thead>\n",
              "    <tr style=\"text-align: right;\">\n",
              "      <th></th>\n",
              "      <th>image_name</th>\n",
              "      <th>target</th>\n",
              "    </tr>\n",
              "  </thead>\n",
              "  <tbody>\n",
              "    <tr>\n",
              "      <th>0</th>\n",
              "      <td>resized_frame7801.jpg</td>\n",
              "      <td>1</td>\n",
              "    </tr>\n",
              "    <tr>\n",
              "      <th>1</th>\n",
              "      <td>resized_frame7143.jpg</td>\n",
              "      <td>1</td>\n",
              "    </tr>\n",
              "    <tr>\n",
              "      <th>2</th>\n",
              "      <td>resized_frame9337.jpg</td>\n",
              "      <td>1</td>\n",
              "    </tr>\n",
              "    <tr>\n",
              "      <th>3</th>\n",
              "      <td>resized_frame39.jpg</td>\n",
              "      <td>1</td>\n",
              "    </tr>\n",
              "    <tr>\n",
              "      <th>4</th>\n",
              "      <td>resized_frame25999.jpg</td>\n",
              "      <td>1</td>\n",
              "    </tr>\n",
              "  </tbody>\n",
              "</table>\n",
              "</div>"
            ],
            "text/plain": [
              "               image_name  target\n",
              "0   resized_frame7801.jpg       1\n",
              "1   resized_frame7143.jpg       1\n",
              "2   resized_frame9337.jpg       1\n",
              "3     resized_frame39.jpg       1\n",
              "4  resized_frame25999.jpg       1"
            ]
          },
          "metadata": {
            "tags": []
          },
          "execution_count": 19
        }
      ]
    },
    {
      "cell_type": "code",
      "metadata": {
        "id": "PYMrjgEjv0bO"
      },
      "source": [
        "df_nofire = pd.DataFrame(img_nofire, columns=[\"image_name\"])\r\n",
        "df_nofire[\"target\"] = 0"
      ],
      "execution_count": 20,
      "outputs": []
    },
    {
      "cell_type": "code",
      "metadata": {
        "colab": {
          "base_uri": "https://localhost:8080/",
          "height": 195
        },
        "id": "zRVd9ablwDdW",
        "outputId": "08521e48-5bb3-4082-98b4-0ad147145bad"
      },
      "source": [
        "df_nofire.head()"
      ],
      "execution_count": 21,
      "outputs": [
        {
          "output_type": "execute_result",
          "data": {
            "text/html": [
              "<div>\n",
              "<style scoped>\n",
              "    .dataframe tbody tr th:only-of-type {\n",
              "        vertical-align: middle;\n",
              "    }\n",
              "\n",
              "    .dataframe tbody tr th {\n",
              "        vertical-align: top;\n",
              "    }\n",
              "\n",
              "    .dataframe thead th {\n",
              "        text-align: right;\n",
              "    }\n",
              "</style>\n",
              "<table border=\"1\" class=\"dataframe\">\n",
              "  <thead>\n",
              "    <tr style=\"text-align: right;\">\n",
              "      <th></th>\n",
              "      <th>image_name</th>\n",
              "      <th>target</th>\n",
              "    </tr>\n",
              "  </thead>\n",
              "  <tbody>\n",
              "    <tr>\n",
              "      <th>0</th>\n",
              "      <td>resized_frame3245.jpg</td>\n",
              "      <td>0</td>\n",
              "    </tr>\n",
              "    <tr>\n",
              "      <th>1</th>\n",
              "      <td>lake_resized_lake_frame2081.jpg</td>\n",
              "      <td>0</td>\n",
              "    </tr>\n",
              "    <tr>\n",
              "      <th>2</th>\n",
              "      <td>lake_resized_lake_frame3815.jpg</td>\n",
              "      <td>0</td>\n",
              "    </tr>\n",
              "    <tr>\n",
              "      <th>3</th>\n",
              "      <td>lake_resized_lake_frame3181.jpg</td>\n",
              "      <td>0</td>\n",
              "    </tr>\n",
              "    <tr>\n",
              "      <th>4</th>\n",
              "      <td>lake_resized_lake_frame9067.jpg</td>\n",
              "      <td>0</td>\n",
              "    </tr>\n",
              "  </tbody>\n",
              "</table>\n",
              "</div>"
            ],
            "text/plain": [
              "                        image_name  target\n",
              "0            resized_frame3245.jpg       0\n",
              "1  lake_resized_lake_frame2081.jpg       0\n",
              "2  lake_resized_lake_frame3815.jpg       0\n",
              "3  lake_resized_lake_frame3181.jpg       0\n",
              "4  lake_resized_lake_frame9067.jpg       0"
            ]
          },
          "metadata": {
            "tags": []
          },
          "execution_count": 21
        }
      ]
    },
    {
      "cell_type": "code",
      "metadata": {
        "id": "lknLjB7fwFqg"
      },
      "source": [
        "df = pd.concat([df_fire, df_nofire], axis=0)\r\n",
        "df = df.sample(frac=1)"
      ],
      "execution_count": 28,
      "outputs": []
    },
    {
      "cell_type": "code",
      "metadata": {
        "colab": {
          "base_uri": "https://localhost:8080/",
          "height": 195
        },
        "id": "fYypEbd6wUQQ",
        "outputId": "145e77a2-bf19-41ba-9c33-af7c54c1dbed"
      },
      "source": [
        "df.head()"
      ],
      "execution_count": 29,
      "outputs": [
        {
          "output_type": "execute_result",
          "data": {
            "text/html": [
              "<div>\n",
              "<style scoped>\n",
              "    .dataframe tbody tr th:only-of-type {\n",
              "        vertical-align: middle;\n",
              "    }\n",
              "\n",
              "    .dataframe tbody tr th {\n",
              "        vertical-align: top;\n",
              "    }\n",
              "\n",
              "    .dataframe thead th {\n",
              "        text-align: right;\n",
              "    }\n",
              "</style>\n",
              "<table border=\"1\" class=\"dataframe\">\n",
              "  <thead>\n",
              "    <tr style=\"text-align: right;\">\n",
              "      <th></th>\n",
              "      <th>image_name</th>\n",
              "      <th>target</th>\n",
              "    </tr>\n",
              "  </thead>\n",
              "  <tbody>\n",
              "    <tr>\n",
              "      <th>1115</th>\n",
              "      <td>resized_frame4620.jpg</td>\n",
              "      <td>1</td>\n",
              "    </tr>\n",
              "    <tr>\n",
              "      <th>1067</th>\n",
              "      <td>lake_resized_lake_frame6930.jpg</td>\n",
              "      <td>0</td>\n",
              "    </tr>\n",
              "    <tr>\n",
              "      <th>14980</th>\n",
              "      <td>resized_frame21729.jpg</td>\n",
              "      <td>1</td>\n",
              "    </tr>\n",
              "    <tr>\n",
              "      <th>10484</th>\n",
              "      <td>resized_frame15658.jpg</td>\n",
              "      <td>1</td>\n",
              "    </tr>\n",
              "    <tr>\n",
              "      <th>18279</th>\n",
              "      <td>resized_frame24422.jpg</td>\n",
              "      <td>1</td>\n",
              "    </tr>\n",
              "  </tbody>\n",
              "</table>\n",
              "</div>"
            ],
            "text/plain": [
              "                            image_name  target\n",
              "1115             resized_frame4620.jpg       1\n",
              "1067   lake_resized_lake_frame6930.jpg       0\n",
              "14980           resized_frame21729.jpg       1\n",
              "10484           resized_frame15658.jpg       1\n",
              "18279           resized_frame24422.jpg       1"
            ]
          },
          "metadata": {
            "tags": []
          },
          "execution_count": 29
        }
      ]
    },
    {
      "cell_type": "code",
      "metadata": {
        "colab": {
          "base_uri": "https://localhost:8080/"
        },
        "id": "RRh4GvYMwVtp",
        "outputId": "778fb04b-fc5f-43cd-a5be-201a21157267"
      },
      "source": [
        "print(f\"Concatenated : {df.shape[0]} , Fire : {df_fire.shape[0]}, No Fire : {df_nofire.shape[0]}\")"
      ],
      "execution_count": 30,
      "outputs": [
        {
          "output_type": "stream",
          "text": [
            "Concatenated : 39375 , Fire : 25018, No Fire : 14357\n"
          ],
          "name": "stdout"
        }
      ]
    },
    {
      "cell_type": "code",
      "metadata": {
        "id": "YLPzZCiCxLoI"
      },
      "source": [
        "df.to_csv(\"/content/gdrive/MyDrive/concatenated.csv\", index = False)"
      ],
      "execution_count": 31,
      "outputs": []
    },
    {
      "cell_type": "code",
      "metadata": {
        "id": "B4VIBnTWyC_v"
      },
      "source": [
        ""
      ],
      "execution_count": null,
      "outputs": []
    }
  ]
}